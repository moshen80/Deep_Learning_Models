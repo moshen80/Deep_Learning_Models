{
 "cells": [
  {
   "cell_type": "code",
   "execution_count": 1,
   "id": "788af682-bc15-47dc-b799-d2958eb41899",
   "metadata": {},
   "outputs": [],
   "source": [
    "import pandas as pd\n",
    "import numpy as np\n",
    "import matplotlib.pyplot as plt\n",
    "import seaborn as sns\n",
    "from sklearn.model_selection import train_test_split\n",
    "from sklearn import metrics\n",
    "\n",
    "from tensorflow.keras.models import Sequential\n",
    "from tensorflow.keras.layers import Dense"
   ]
  },
  {
   "cell_type": "code",
   "execution_count": 2,
   "id": "f5c5248e-c842-413d-81f1-45dc3e94fa8b",
   "metadata": {},
   "outputs": [],
   "source": [
    "## Reading and Visualizing data"
   ]
  },
  {
   "cell_type": "code",
   "execution_count": 3,
   "id": "50ccda9b-d671-4428-98fc-e7eab658e525",
   "metadata": {},
   "outputs": [],
   "source": [
    "df = pd.read_csv('Data/anomaly.csv')"
   ]
  },
  {
   "cell_type": "code",
   "execution_count": 4,
   "id": "eaf46c63-e422-43bb-861d-9f7c45849197",
   "metadata": {},
   "outputs": [
    {
     "data": {
      "text/html": [
       "<div>\n",
       "<style scoped>\n",
       "    .dataframe tbody tr th:only-of-type {\n",
       "        vertical-align: middle;\n",
       "    }\n",
       "\n",
       "    .dataframe tbody tr th {\n",
       "        vertical-align: top;\n",
       "    }\n",
       "\n",
       "    .dataframe thead th {\n",
       "        text-align: right;\n",
       "    }\n",
       "</style>\n",
       "<table border=\"1\" class=\"dataframe\">\n",
       "  <thead>\n",
       "    <tr style=\"text-align: right;\">\n",
       "      <th></th>\n",
       "      <th>Date</th>\n",
       "      <th>Power</th>\n",
       "      <th>Detector</th>\n",
       "      <th>Quality</th>\n",
       "    </tr>\n",
       "  </thead>\n",
       "  <tbody>\n",
       "    <tr>\n",
       "      <th>1456</th>\n",
       "      <td>27-Dec-19</td>\n",
       "      <td>93</td>\n",
       "      <td>8</td>\n",
       "      <td>Good</td>\n",
       "    </tr>\n",
       "    <tr>\n",
       "      <th>1457</th>\n",
       "      <td>28-Dec-19</td>\n",
       "      <td>91</td>\n",
       "      <td>10</td>\n",
       "      <td>Good</td>\n",
       "    </tr>\n",
       "    <tr>\n",
       "      <th>1458</th>\n",
       "      <td>29-Dec-19</td>\n",
       "      <td>95</td>\n",
       "      <td>8</td>\n",
       "      <td>Good</td>\n",
       "    </tr>\n",
       "    <tr>\n",
       "      <th>1459</th>\n",
       "      <td>30-Dec-19</td>\n",
       "      <td>91</td>\n",
       "      <td>10</td>\n",
       "      <td>Good</td>\n",
       "    </tr>\n",
       "    <tr>\n",
       "      <th>1460</th>\n",
       "      <td>31-Dec-19</td>\n",
       "      <td>100</td>\n",
       "      <td>12</td>\n",
       "      <td>Good</td>\n",
       "    </tr>\n",
       "  </tbody>\n",
       "</table>\n",
       "</div>"
      ],
      "text/plain": [
       "           Date  Power  Detector Quality\n",
       "1456  27-Dec-19     93         8    Good\n",
       "1457  28-Dec-19     91        10    Good\n",
       "1458  29-Dec-19     95         8    Good\n",
       "1459  30-Dec-19     91        10    Good\n",
       "1460  31-Dec-19    100        12    Good"
      ]
     },
     "execution_count": 4,
     "metadata": {},
     "output_type": "execute_result"
    }
   ],
   "source": [
    "# Data Summary \n",
    "df.tail()"
   ]
  },
  {
   "cell_type": "code",
   "execution_count": 5,
   "id": "e6035e6d-c67d-404f-aab4-09e1a789a227",
   "metadata": {},
   "outputs": [
    {
     "data": {
      "text/html": [
       "<div>\n",
       "<style scoped>\n",
       "    .dataframe tbody tr th:only-of-type {\n",
       "        vertical-align: middle;\n",
       "    }\n",
       "\n",
       "    .dataframe tbody tr th {\n",
       "        vertical-align: top;\n",
       "    }\n",
       "\n",
       "    .dataframe thead th {\n",
       "        text-align: right;\n",
       "    }\n",
       "</style>\n",
       "<table border=\"1\" class=\"dataframe\">\n",
       "  <thead>\n",
       "    <tr style=\"text-align: right;\">\n",
       "      <th></th>\n",
       "      <th>count</th>\n",
       "      <th>mean</th>\n",
       "      <th>std</th>\n",
       "      <th>min</th>\n",
       "      <th>25%</th>\n",
       "      <th>50%</th>\n",
       "      <th>75%</th>\n",
       "      <th>max</th>\n",
       "    </tr>\n",
       "  </thead>\n",
       "  <tbody>\n",
       "    <tr>\n",
       "      <th>Power</th>\n",
       "      <td>1461.0</td>\n",
       "      <td>95.856947</td>\n",
       "      <td>8.435862</td>\n",
       "      <td>61.0</td>\n",
       "      <td>92.0</td>\n",
       "      <td>95.0</td>\n",
       "      <td>98.0</td>\n",
       "      <td>148.0</td>\n",
       "    </tr>\n",
       "    <tr>\n",
       "      <th>Detector</th>\n",
       "      <td>1461.0</td>\n",
       "      <td>9.980835</td>\n",
       "      <td>2.174803</td>\n",
       "      <td>5.0</td>\n",
       "      <td>8.0</td>\n",
       "      <td>10.0</td>\n",
       "      <td>11.0</td>\n",
       "      <td>17.0</td>\n",
       "    </tr>\n",
       "  </tbody>\n",
       "</table>\n",
       "</div>"
      ],
      "text/plain": [
       "           count       mean       std   min   25%   50%   75%    max\n",
       "Power     1461.0  95.856947  8.435862  61.0  92.0  95.0  98.0  148.0\n",
       "Detector  1461.0   9.980835  2.174803   5.0   8.0  10.0  11.0   17.0"
      ]
     },
     "execution_count": 5,
     "metadata": {},
     "output_type": "execute_result"
    }
   ],
   "source": [
    "df.describe().T"
   ]
  },
  {
   "cell_type": "markdown",
   "id": "d06541e7-414a-45f7-87c7-bb1b131f5b08",
   "metadata": {},
   "source": [
    "### Visualizing the Anomaly in the time series\n",
    "Let's look at the data in time to see whether we can detect the anomlies "
   ]
  },
  {
   "cell_type": "code",
   "execution_count": 6,
   "id": "347d2da4-a082-4fca-859c-edc2f78fb1e1",
   "metadata": {},
   "outputs": [
    {
     "data": {
      "image/png": "[encoded data removed]",
      "text/plain": [
       "<Figure size 1440x288 with 2 Axes>"
      ]
     },
     "metadata": {
      "needs_background": "light"
     },
     "output_type": "display_data"
    }
   ],
   "source": [
    "fig,ax = plt.subplots(1,2,figsize=(20,4))\n",
    "g = sns.lineplot(data=df, x=\"Date\", y=\"Power\",ax=ax[0])\n",
    "g.set_xticks(range(0,len(df),100)) \n",
    "g.set_xticklabels(df['Date'].values[range(0,len(df),100)],rotation=45)\n",
    "g = sns.lineplot(data=df, x=\"Date\", y=\"Detector\",ax=ax[1])\n",
    "g.set_xticks(range(0,len(df),100)) \n",
    "g.set_xticklabels(df['Date'].values[range(0,len(df),100)],rotation=45)\n",
    "plt.show()"
   ]
  },
  {
   "cell_type": "markdown",
   "id": "9f68b1a7-7c8b-46dc-b4f6-6b625f6986e3",
   "metadata": {},
   "source": [
    "Let's look at the spread of Good and Bad Signals "
   ]
  },
  {
   "cell_type": "code",
   "execution_count": 7,
   "id": "84641c12-2fb7-4f6b-b227-31d5b4eb5fa6",
   "metadata": {},
   "outputs": [
    {
     "name": "stdout",
     "output_type": "stream",
     "text": [
      "Quality\n",
      "Bad      407\n",
      "Good    1054\n",
      "Name: Quality, dtype: int64\n"
     ]
    }
   ],
   "source": [
    "print(df.groupby('Quality')['Quality'].count())"
   ]
  },
  {
   "cell_type": "code",
   "execution_count": 8,
   "id": "79b9adb1-94e6-46bc-93fc-1ee9cfba29b6",
   "metadata": {},
   "outputs": [],
   "source": [
    "df.drop(['Date'], axis=1, inplace=True)\n",
    "df.dropna(inplace=True,axis=1)\n",
    "\n",
    "# Generating mask for Normal amd Anormal data\n",
    "good_mask = df['Quality']== 'Good' \n",
    "bad_mask = df['Quality']== 'Bad' \n",
    "\n",
    "\n",
    "df.drop('Quality',axis=1,inplace=True)\n",
    "\n",
    "df_good = df[good_mask]\n",
    "df_bad = df[bad_mask]"
   ]
  },
  {
   "cell_type": "code",
   "execution_count": 9,
   "id": "4d581a01-7b46-4006-9c6d-68d4e9d4988b",
   "metadata": {},
   "outputs": [
    {
     "name": "stdout",
     "output_type": "stream",
     "text": [
      "Good train count: 790\n",
      "Good test count: 264\n"
     ]
    }
   ],
   "source": [
    "# This is the feature vector that goes to the neural net\n",
    "x_good = df_good.values\n",
    "x_bad = df_bad.values\n",
    "\n",
    "\n",
    "\n",
    "x_good_train, x_good_test = train_test_split(\n",
    "        x_good, test_size=0.25, random_state=42)\n",
    "\n",
    "print(\"Good train count: {}\".format(len(x_good_train)))\n",
    "print(\"Good test count: {}\".format(len(x_good_test)))"
   ]
  },
  {
   "cell_type": "markdown",
   "id": "02cccbf0-db41-4ed2-87f8-990f37f5d068",
   "metadata": {},
   "source": [
    "### Creating the Model Using Keras\n",
    "Since we are dealing with time series (Only two features), we use only dense layers. The idea is to build an autoencoder model that reconsctruct the good data with low reconstruction loss. In that case the reconstrcution loss (MSE in this case) will increase if the trained model encounter any anomalites"
   ]
  },
  {
   "cell_type": "code",
   "execution_count": 10,
   "id": "0f919413-7f94-4915-8236-20ef02cb93de",
   "metadata": {},
   "outputs": [
    {
     "name": "stdout",
     "output_type": "stream",
     "text": [
      "Model: \"sequential\"\n",
      "_________________________________________________________________\n",
      "Layer (type)                 Output Shape              Param #   \n",
      "=================================================================\n",
      "dense (Dense)                (None, 10)                30        \n",
      "_________________________________________________________________\n",
      "dense_1 (Dense)              (None, 3)                 33        \n",
      "_________________________________________________________________\n",
      "dense_2 (Dense)              (None, 10)                40        \n",
      "_________________________________________________________________\n",
      "dense_3 (Dense)              (None, 2)                 22        \n",
      "=================================================================\n",
      "Total params: 125\n",
      "Trainable params: 125\n",
      "Non-trainable params: 0\n",
      "_________________________________________________________________\n"
     ]
    }
   ],
   "source": [
    "model = Sequential()\n",
    "model.add(Dense(10, input_dim=x_good.shape[1], activation='relu'))\n",
    "model.add(Dense(3, activation='relu'))\n",
    "model.add(Dense(10, activation='relu'))\n",
    "model.add(Dense(x_good.shape[1])) \n",
    "model.compile(loss='mean_squared_error', optimizer='adam')\n",
    "model.summary()"
   ]
  },
  {
   "cell_type": "code",
   "execution_count": 11,
   "id": "5da75625-469e-4aa8-b231-5dd23cc197ba",
   "metadata": {},
   "outputs": [
    {
     "name": "stdout",
     "output_type": "stream",
     "text": [
      "Epoch 1/100\n",
      "25/25 [==============================] - 0s 727us/step - loss: 5186.3564\n",
      "Epoch 2/100\n",
      "25/25 [==============================] - 0s 674us/step - loss: 4284.9360\n",
      "Epoch 3/100\n",
      "25/25 [==============================] - 0s 611us/step - loss: 3449.7747\n",
      "Epoch 4/100\n",
      "25/25 [==============================] - 0s 599us/step - loss: 2609.9351\n",
      "Epoch 5/100\n",
      "25/25 [==============================] - 0s 683us/step - loss: 1781.9855\n",
      "Epoch 6/100\n",
      "25/25 [==============================] - 0s 591us/step - loss: 1038.2554\n",
      "Epoch 7/100\n",
      "25/25 [==============================] - 0s 587us/step - loss: 478.0492\n",
      "Epoch 8/100\n",
      "25/25 [==============================] - 0s 620us/step - loss: 156.6949\n",
      "Epoch 9/100\n",
      "25/25 [==============================] - 0s 603us/step - loss: 32.6713\n",
      "Epoch 10/100\n",
      "25/25 [==============================] - 0s 598us/step - loss: 4.7912\n",
      "Epoch 11/100\n",
      "25/25 [==============================] - 0s 615us/step - loss: 1.6163\n",
      "Epoch 12/100\n",
      "25/25 [==============================] - 0s 609us/step - loss: 1.4670\n",
      "Epoch 13/100\n",
      "25/25 [==============================] - 0s 601us/step - loss: 1.4578\n",
      "Epoch 14/100\n",
      "25/25 [==============================] - 0s 621us/step - loss: 1.4608\n",
      "Epoch 15/100\n",
      "25/25 [==============================] - 0s 595us/step - loss: 1.4538\n",
      "Epoch 16/100\n",
      "25/25 [==============================] - 0s 588us/step - loss: 1.4611\n",
      "Epoch 17/100\n",
      "25/25 [==============================] - 0s 604us/step - loss: 1.4570\n",
      "Epoch 18/100\n",
      "25/25 [==============================] - 0s 632us/step - loss: 1.4590\n",
      "Epoch 19/100\n",
      "25/25 [==============================] - 0s 602us/step - loss: 1.4497\n",
      "Epoch 20/100\n",
      "25/25 [==============================] - 0s 611us/step - loss: 1.4653\n",
      "Epoch 21/100\n",
      "25/25 [==============================] - 0s 618us/step - loss: 1.4541\n",
      "Epoch 22/100\n",
      "25/25 [==============================] - 0s 597us/step - loss: 1.4499\n",
      "Epoch 23/100\n",
      "25/25 [==============================] - 0s 604us/step - loss: 1.4545\n",
      "Epoch 24/100\n",
      "25/25 [==============================] - 0s 627us/step - loss: 1.4488\n",
      "Epoch 25/100\n",
      "25/25 [==============================] - 0s 593us/step - loss: 1.4583\n",
      "Epoch 26/100\n",
      "25/25 [==============================] - 0s 633us/step - loss: 1.4477\n",
      "Epoch 27/100\n",
      "25/25 [==============================] - 0s 626us/step - loss: 1.4528\n",
      "Epoch 28/100\n",
      "25/25 [==============================] - 0s 578us/step - loss: 1.4458\n",
      "Epoch 29/100\n",
      "25/25 [==============================] - 0s 601us/step - loss: 1.4463\n",
      "Epoch 30/100\n",
      "25/25 [==============================] - 0s 632us/step - loss: 1.4528\n",
      "Epoch 31/100\n",
      "25/25 [==============================] - 0s 593us/step - loss: 1.4647\n",
      "Epoch 32/100\n",
      "25/25 [==============================] - 0s 597us/step - loss: 1.4459\n",
      "Epoch 33/100\n",
      "25/25 [==============================] - 0s 624us/step - loss: 1.4464\n",
      "Epoch 34/100\n",
      "25/25 [==============================] - 0s 594us/step - loss: 1.4405\n",
      "Epoch 35/100\n",
      "25/25 [==============================] - 0s 613us/step - loss: 1.4363\n",
      "Epoch 36/100\n",
      "25/25 [==============================] - 0s 685us/step - loss: 1.4374\n",
      "Epoch 37/100\n",
      "25/25 [==============================] - 0s 611us/step - loss: 1.4361\n",
      "Epoch 38/100\n",
      "25/25 [==============================] - 0s 637us/step - loss: 1.4326\n",
      "Epoch 39/100\n",
      "25/25 [==============================] - 0s 645us/step - loss: 1.4507\n",
      "Epoch 40/100\n",
      "25/25 [==============================] - 0s 599us/step - loss: 1.4452\n",
      "Epoch 41/100\n",
      "25/25 [==============================] - 0s 630us/step - loss: 1.4336\n",
      "Epoch 42/100\n",
      "25/25 [==============================] - 0s 617us/step - loss: 1.4403\n",
      "Epoch 43/100\n",
      "25/25 [==============================] - 0s 595us/step - loss: 1.4302\n",
      "Epoch 44/100\n",
      "25/25 [==============================] - 0s 610us/step - loss: 1.4371\n",
      "Epoch 45/100\n",
      "25/25 [==============================] - 0s 618us/step - loss: 1.4426\n",
      "Epoch 46/100\n",
      "25/25 [==============================] - 0s 595us/step - loss: 1.4315\n",
      "Epoch 47/100\n",
      "25/25 [==============================] - 0s 598us/step - loss: 1.4280\n",
      "Epoch 48/100\n",
      "25/25 [==============================] - 0s 608us/step - loss: 1.4265\n",
      "Epoch 49/100\n",
      "25/25 [==============================] - 0s 602us/step - loss: 1.4312\n",
      "Epoch 50/100\n",
      "25/25 [==============================] - 0s 610us/step - loss: 1.4265\n",
      "Epoch 51/100\n",
      "25/25 [==============================] - 0s 620us/step - loss: 1.4267\n",
      "Epoch 52/100\n",
      "25/25 [==============================] - 0s 601us/step - loss: 1.4347\n",
      "Epoch 53/100\n",
      "25/25 [==============================] - 0s 589us/step - loss: 1.4167\n",
      "Epoch 54/100\n",
      "25/25 [==============================] - 0s 625us/step - loss: 1.4204\n",
      "Epoch 55/100\n",
      "25/25 [==============================] - 0s 587us/step - loss: 1.4153\n",
      "Epoch 56/100\n",
      "25/25 [==============================] - 0s 590us/step - loss: 1.4121\n",
      "Epoch 57/100\n",
      "25/25 [==============================] - 0s 631us/step - loss: 1.4100\n",
      "Epoch 58/100\n",
      "25/25 [==============================] - 0s 585us/step - loss: 1.4102\n",
      "Epoch 59/100\n",
      "25/25 [==============================] - 0s 596us/step - loss: 1.4306\n",
      "Epoch 60/100\n",
      "25/25 [==============================] - 0s 633us/step - loss: 1.4083\n",
      "Epoch 61/100\n",
      "25/25 [==============================] - 0s 606us/step - loss: 1.4045\n",
      "Epoch 62/100\n",
      "25/25 [==============================] - 0s 599us/step - loss: 1.4175\n",
      "Epoch 63/100\n",
      "25/25 [==============================] - 0s 658us/step - loss: 1.4045\n",
      "Epoch 64/100\n",
      "25/25 [==============================] - 0s 605us/step - loss: 1.4045\n",
      "Epoch 65/100\n",
      "25/25 [==============================] - 0s 595us/step - loss: 1.4038\n",
      "Epoch 66/100\n",
      "25/25 [==============================] - 0s 671us/step - loss: 1.3974\n",
      "Epoch 67/100\n",
      "25/25 [==============================] - 0s 609us/step - loss: 1.4020\n",
      "Epoch 68/100\n",
      "25/25 [==============================] - 0s 590us/step - loss: 1.4017\n",
      "Epoch 69/100\n",
      "25/25 [==============================] - 0s 660us/step - loss: 1.4073\n",
      "Epoch 70/100\n",
      "25/25 [==============================] - 0s 598us/step - loss: 1.4020\n",
      "Epoch 71/100\n",
      "25/25 [==============================] - 0s 588us/step - loss: 1.3958\n",
      "Epoch 72/100\n",
      "25/25 [==============================] - 0s 634us/step - loss: 1.4042\n",
      "Epoch 73/100\n",
      "25/25 [==============================] - 0s 601us/step - loss: 1.4072\n",
      "Epoch 74/100\n",
      "25/25 [==============================] - 0s 610us/step - loss: 1.3828\n",
      "Epoch 75/100\n",
      "25/25 [==============================] - 0s 667us/step - loss: 1.3874\n",
      "Epoch 76/100\n",
      "25/25 [==============================] - 0s 601us/step - loss: 1.3866\n",
      "Epoch 77/100\n",
      "25/25 [==============================] - 0s 592us/step - loss: 1.3848\n",
      "Epoch 78/100\n",
      "25/25 [==============================] - 0s 641us/step - loss: 1.3892\n",
      "Epoch 79/100\n",
      "25/25 [==============================] - 0s 579us/step - loss: 1.3853\n",
      "Epoch 80/100\n",
      "25/25 [==============================] - 0s 571us/step - loss: 1.3751\n",
      "Epoch 81/100\n",
      "25/25 [==============================] - 0s 580us/step - loss: 1.3727\n",
      "Epoch 82/100\n",
      "25/25 [==============================] - 0s 585us/step - loss: 1.3816\n",
      "Epoch 83/100\n",
      "25/25 [==============================] - 0s 591us/step - loss: 1.3673\n",
      "Epoch 84/100\n",
      "25/25 [==============================] - 0s 623us/step - loss: 1.3630\n",
      "Epoch 85/100\n",
      "25/25 [==============================] - 0s 607us/step - loss: 1.3646\n",
      "Epoch 86/100\n",
      "25/25 [==============================] - 0s 580us/step - loss: 1.3706\n",
      "Epoch 87/100\n",
      "25/25 [==============================] - 0s 613us/step - loss: 1.3531\n",
      "Epoch 88/100\n",
      "25/25 [==============================] - 0s 600us/step - loss: 1.3733\n",
      "Epoch 89/100\n",
      "25/25 [==============================] - 0s 608us/step - loss: 1.3626\n",
      "Epoch 90/100\n",
      "25/25 [==============================] - 0s 620us/step - loss: 1.3604\n",
      "Epoch 91/100\n",
      "25/25 [==============================] - 0s 607us/step - loss: 1.3542\n",
      "Epoch 92/100\n",
      "25/25 [==============================] - 0s 595us/step - loss: 1.3486\n",
      "Epoch 93/100\n",
      "25/25 [==============================] - 0s 624us/step - loss: 1.3444\n",
      "Epoch 94/100\n",
      "25/25 [==============================] - 0s 615us/step - loss: 1.3476\n",
      "Epoch 95/100\n",
      "25/25 [==============================] - 0s 611us/step - loss: 1.3596\n",
      "Epoch 96/100\n",
      "25/25 [==============================] - 0s 609us/step - loss: 1.3597\n",
      "Epoch 97/100\n",
      "25/25 [==============================] - 0s 597us/step - loss: 1.3593\n",
      "Epoch 98/100\n",
      "25/25 [==============================] - 0s 615us/step - loss: 1.3679\n",
      "Epoch 99/100\n",
      "25/25 [==============================] - 0s 599us/step - loss: 1.3690\n",
      "Epoch 100/100\n",
      "25/25 [==============================] - 0s 806us/step - loss: 1.3460\n"
     ]
    },
    {
     "data": {
      "text/plain": [
       "<keras.callbacks.History at 0x7fd69961b190>"
      ]
     },
     "execution_count": 11,
     "metadata": {},
     "output_type": "execute_result"
    }
   ],
   "source": [
    "model.fit(x_good_train,x_good_train,verbose=1,epochs=100)"
   ]
  },
  {
   "cell_type": "code",
   "execution_count": 12,
   "id": "e5a94152-b9f4-4944-b960-90299c36e5ef",
   "metadata": {},
   "outputs": [
    {
     "name": "stdout",
     "output_type": "stream",
     "text": [
      "Insample Good Score (RMSE): 1.1556683480542782\n",
      "Out of Sample Good Score (RMSE): 1.1529616121538058\n",
      "Bad sample Score (RMSE): 2.958696704539722\n"
     ]
    }
   ],
   "source": [
    "pred = model.predict(x_good_test)\n",
    "score1 = np.sqrt(metrics.mean_squared_error(pred,x_good_test))\n",
    "\n",
    "pred = model.predict(x_good)\n",
    "score2 = np.sqrt(metrics.mean_squared_error(pred,x_good))\n",
    "\n",
    "pred = model.predict(x_bad)\n",
    "score3 = np.sqrt(metrics.mean_squared_error(pred,x_bad))\n",
    "\n",
    "print(\"Insample Good Score (RMSE): {}\".format(score1))\n",
    "print(\"Out of Sample Good Score (RMSE): {}\".format(score2))\n",
    "print(\"Bad sample Score (RMSE): {}\" .format(score3))"
   ]
  },
  {
   "cell_type": "markdown",
   "id": "4b148562-612a-45b3-b84b-0c11a8c0812c",
   "metadata": {},
   "source": [
    "As can be seen from RMSE of Good sample test and training dataset and RMSE of Bad Samples, we can detect anomalites when the RMSE rises above a certain threshold"
   ]
  },
  {
   "cell_type": "code",
   "execution_count": null,
   "id": "97c695a5-d581-43f5-80ed-064decf25e9b",
   "metadata": {},
   "outputs": [],
   "source": []
  }
 ],
 "metadata": {
  "kernelspec": {
   "display_name": "Python 3",
   "language": "python",
   "name": "python3"
  },
  "language_info": {
   "codemirror_mode": {
    "name": "ipython",
    "version": 3
   },
   "file_extension": ".py",
   "mimetype": "text/x-python",
   "name": "python",
   "nbconvert_exporter": "python",
   "pygments_lexer": "ipython3",
   "version": "3.9.5"
  }
 },
 "nbformat": 4,
 "nbformat_minor": 5
}
