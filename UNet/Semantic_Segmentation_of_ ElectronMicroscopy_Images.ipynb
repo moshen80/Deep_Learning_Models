{
 "cells": [
  {
   "cell_type": "code",
   "execution_count": 5,
   "id": "5a313392-331a-40bb-b219-afab6a35aab4",
   "metadata": {},
   "outputs": [
    {
     "name": "stdout",
     "output_type": "stream",
     "text": [
      "Requirement already satisfied: patchify in /Users/mohsen/opt/anaconda3/envs/indl/lib/python3.9/site-packages (0.2.3)\n",
      "Requirement already satisfied: numpy<2,>=1 in /Users/mohsen/opt/anaconda3/envs/indl/lib/python3.9/site-packages (from patchify) (1.19.5)\n",
      "Requirement already satisfied: tifffile in /Users/mohsen/opt/anaconda3/envs/indl/lib/python3.9/site-packages (2021.10.10)\n",
      "Requirement already satisfied: numpy>=1.15.1 in /Users/mohsen/opt/anaconda3/envs/indl/lib/python3.9/site-packages (from tifffile) (1.19.5)\n"
     ]
    }
   ],
   "source": [
    "# Lets Install patchify package to make smaller imgages\n",
    "! pip install patchify\n",
    "! pip install tifffile"
   ]
  },
  {
   "cell_type": "markdown",
   "id": "d7fb3625-3862-4b3d-8f22-bcd6b924d85e",
   "metadata": {},
   "source": [
    "### Electron Microscopic Image Dataset\n",
    "\n",
    "The data can be download from https://www.epfl.ch/labs/cvlab/data/data-em/\n",
    "\n",
    "The whole data is a 3D tiff image with 1065x2048x1536 volume where each voxel is approximately 5x5x5nm"
   ]
  },
  {
   "cell_type": "markdown",
   "id": "a41610d1-94dc-4f3f-83a7-f3bd9fc3d163",
   "metadata": {},
   "source": [
    "Lets Download the traing and testing files (including the ground-truth) from the source first"
   ]
  },
  {
   "cell_type": "code",
   "execution_count": 26,
   "id": "b406f89a-f638-4c55-a446-865314b6cc18",
   "metadata": {},
   "outputs": [],
   "source": [
    "!curl -o training.tif -k https://documents.epfl.ch/groups/c/cv/cvlab-unit/www/data/%20ElectronMicroscopy_Hippocampus/training.tif\n",
    "!curl -o testing.tif -k https://documents.epfl.ch/groups/c/cv/cvlab-unit/www/data/%20ElectronMicroscopy_Hippocampus/testing.tif\n",
    "!curl -o training_groundtruth.tif -k https://documents.epfl.ch/groups/c/cv/cvlab-unit/www/data/%20ElectronMicroscopy_Hippocampus/training_groundtruth.tif\n",
    "!curl -o testing_groundtruth.tif -k https://documents.epfl.ch/groups/c/cv/cvlab-unit/www/data/%20ElectronMicroscopy_Hippocampus/testing_groundtruth.tif"
   ]
  },
  {
   "cell_type": "markdown",
   "id": "d73e5adf-a971-4c63-a180-736e9262d26c",
   "metadata": {},
   "source": [
    "### Creating small patches \n",
    "First we split the images into smaller patches using patchify"
   ]
  },
  {
   "cell_type": "code",
   "execution_count": 17,
   "id": "0de1a97f-f27f-424a-b0fc-445405bc611c",
   "metadata": {},
   "outputs": [],
   "source": [
    "import os\n",
    "import numpy as np\n",
    "from matplotlib import pyplot as plt\n",
    "from Utils import Create_Small_Patches\n",
    "import tifffile as tiff"
   ]
  },
  {
   "cell_type": "code",
   "execution_count": 24,
   "id": "f37a19f8-6e99-46e6-ac75-0ea436c562b5",
   "metadata": {},
   "outputs": [],
   "source": [
    "# Creating train/test folders for both Image and Mask data\n",
    "if ~os.path.isdir('Data'):\n",
    "    os.mkdir('Data'); os.mkdir('Data/Training');  os.mkdir('Data/Testing');\n",
    "    os.mkdir('Data/Training/Images'); os.mkdir('Data/Training/Masks'); \n",
    "    os.mkdir('Data/Testing/Images'); os.mkdir('Data/Testing/Masks'); "
   ]
  },
  {
   "cell_type": "code",
   "execution_count": 22,
   "id": "da447879-5f8e-4a4e-9714-368e533d82fe",
   "metadata": {},
   "outputs": [],
   "source": [
    "# Reading train/test images and masks\n",
    "training_image_stack = tiff.imread('training.tif')\n",
    "training_mask_stack = tiff.imread('training_groundtruth.tif')\n",
    "test_image_stack = tiff.imread('testing.tif')\n",
    "test_mask_stack = tiff.imread('testing_groundtruth.tif')"
   ]
  },
  {
   "cell_type": "code",
   "execution_count": 25,
   "id": "0158220f-1d2c-4bcf-993e-d40f4a6136ff",
   "metadata": {},
   "outputs": [],
   "source": [
    "Create_Small_Patches(training_image_stack,'Data/Training/Images/')\n",
    "Create_Small_Patches(training_mask_stack,'Data/Training/Masks/')\n",
    "Create_Small_Patches(test_image_stack,'Data/Testing/Images/')\n",
    "Create_Small_Patches(test_mask_stack,'Data/Testing/Masks/')"
   ]
  },
  {
   "cell_type": "code",
   "execution_count": 10,
   "id": "c45fafbb-a1b7-4cb5-b0fd-97ff0e0bd7c4",
   "metadata": {},
   "outputs": [],
   "source": []
  },
  {
   "cell_type": "code",
   "execution_count": 12,
   "id": "2a012f52-f950-4f85-890a-a8ecc94a0779",
   "metadata": {},
   "outputs": [],
   "source": []
  },
  {
   "cell_type": "code",
   "execution_count": null,
   "id": "33f27320-f686-4fda-b7e0-d59bedd802bd",
   "metadata": {},
   "outputs": [],
   "source": []
  }
 ],
 "metadata": {
  "kernelspec": {
   "display_name": "Python 3",
   "language": "python",
   "name": "python3"
  },
  "language_info": {
   "codemirror_mode": {
    "name": "ipython",
    "version": 3
   },
   "file_extension": ".py",
   "mimetype": "text/x-python",
   "name": "python",
   "nbconvert_exporter": "python",
   "pygments_lexer": "ipython3",
   "version": "3.9.5"
  }
 },
 "nbformat": 4,
 "nbformat_minor": 5
}
