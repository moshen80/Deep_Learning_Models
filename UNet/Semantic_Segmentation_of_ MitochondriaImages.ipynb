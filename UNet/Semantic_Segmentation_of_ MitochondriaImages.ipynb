{
 "cells": [
  {
   "cell_type": "code",
   "execution_count": 4,
   "id": "5a313392-331a-40bb-b219-afab6a35aab4",
   "metadata": {},
   "outputs": [
    {
     "name": "stdout",
     "output_type": "stream",
     "text": [
      "Requirement already satisfied: patchify in /Users/mohsen/opt/anaconda3/envs/indl/lib/python3.9/site-packages (0.2.3)\n",
      "Requirement already satisfied: numpy<2,>=1 in /Users/mohsen/opt/anaconda3/envs/indl/lib/python3.9/site-packages (from patchify) (1.19.5)\n"
     ]
    }
   ],
   "source": [
    "# Lets Install patchify package to make smaller imgages\n",
    "! pip install patchify"
   ]
  },
  {
   "cell_type": "markdown",
   "id": "d73e5adf-a971-4c63-a180-736e9262d26c",
   "metadata": {},
   "source": [
    "### Creating small patches \n",
    "First we split the images into smaller patches using patchify"
   ]
  },
  {
   "cell_type": "code",
   "execution_count": 5,
   "id": "0de1a97f-f27f-424a-b0fc-445405bc611c",
   "metadata": {},
   "outputs": [],
   "source": [
    "import numpy as np\n",
    "from patchify import patchify"
   ]
  },
  {
   "cell_type": "code",
   "execution_count": null,
   "id": "0158220f-1d2c-4bcf-993e-d40f4a6136ff",
   "metadata": {},
   "outputs": [],
   "source": []
  }
 ],
 "metadata": {
  "kernelspec": {
   "display_name": "Python 3",
   "language": "python",
   "name": "python3"
  },
  "language_info": {
   "codemirror_mode": {
    "name": "ipython",
    "version": 3
   },
   "file_extension": ".py",
   "mimetype": "text/x-python",
   "name": "python",
   "nbconvert_exporter": "python",
   "pygments_lexer": "ipython3",
   "version": "3.9.5"
  }
 },
 "nbformat": 4,
 "nbformat_minor": 5
}
